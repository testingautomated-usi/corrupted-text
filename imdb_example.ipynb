{
 "cells": [
  {
   "cell_type": "code",
   "execution_count": null,
   "metadata": {
    "collapsed": true
   },
   "outputs": [],
   "source": [
    "# Install our text corruptor\n",
    "! pip install -i https: // test.pypi.org / simple / corrupted-text == 0.1.0"
   ]
  },
  {
   "cell_type": "code",
   "execution_count": null,
   "outputs": [],
   "source": [
    "# Install Huggingface datasets\n",
    "! pip install datasets == 1.0.0"
   ],
   "metadata": {
    "collapsed": false,
    "pycharm": {
     "name": "#%%\n"
    }
   }
  },
  {
   "cell_type": "code",
   "execution_count": null,
   "outputs": [],
   "source": [
    "import logging\n",
    "\n",
    "from datasets import load_dataset  # pip install datasets\n",
    "\n",
    "import corrupted_text  # pip install corrupted-text"
   ],
   "metadata": {
    "collapsed": false,
    "pycharm": {
     "name": "#%%\n"
    }
   }
  },
  {
   "cell_type": "code",
   "execution_count": null,
   "outputs": [],
   "source": [
    "# Enable Detailed Logging\n",
    "logging.basicConfig(level=logging.INFO)"
   ],
   "metadata": {
    "collapsed": false,
    "pycharm": {
     "name": "#%%\n"
    }
   }
  },
  {
   "cell_type": "code",
   "execution_count": null,
   "outputs": [],
   "source": [
    "# Load the dataset using huggingface's datasets library\n",
    "nominal_train = load_dataset(\"imdb\", split=\"train\")[\"text\"]\n",
    "nominal_test = load_dataset(\"imdb\", split=\"test\")[\"text\"]"
   ],
   "metadata": {
    "collapsed": false,
    "pycharm": {
     "name": "#%%\n"
    }
   }
  },
  {
   "cell_type": "code",
   "execution_count": null,
   "outputs": [],
   "source": [
    "# Fit a corruptor (we fit on the training and test set,\n",
    "#   but as this takes a while, you'd want to choose a smaller subset for larger datasets)\n",
    "corruptor = corrupted_text.TextCorruptor(base_dataset=nominal_test + nominal_train,\n",
    "                                         cache_dir=\"/mycache\")"
   ],
   "metadata": {
    "collapsed": false,
    "pycharm": {
     "name": "#%%\n"
    }
   }
  },
  {
   "cell_type": "code",
   "execution_count": null,
   "outputs": [],
   "source": [
    "# To make this run faster, we corrupt just a small part of the dataset\n",
    "demo_set = nominal_test[:10]"
   ],
   "metadata": {
    "collapsed": false,
    "pycharm": {
     "name": "#%%\n"
    }
   }
  },
  {
   "cell_type": "code",
   "execution_count": null,
   "outputs": [],
   "source": [
    "# Corrupt the test set with severity 0.5. The result is again a list of corrupted strings.\n",
    "severity = 0.5\n",
    "imdb_corrupted = corruptor.corrupt(demo_set, severity=severity, seed=1)"
   ],
   "metadata": {
    "collapsed": false,
    "pycharm": {
     "name": "#%%\n"
    }
   }
  },
  {
   "cell_type": "code",
   "execution_count": null,
   "outputs": [],
   "source": [
    "# Print the results\n",
    "print(f\"====Corruptions with severity {round(severity, 2)}===\")\n",
    "for i in range(len(demo_set)):\n",
    "    print(\"Original:\", demo_set[i])\n",
    "    print(\"Corrupted:\", imdb_corrupted[i])\n",
    "    print(\"---------------------------------\")"
   ],
   "metadata": {
    "collapsed": false,
    "pycharm": {
     "name": "#%%\n"
    }
   }
  }
 ],
 "metadata": {
  "kernelspec": {
   "display_name": "Python 3",
   "language": "python",
   "name": "python3"
  },
  "language_info": {
   "codemirror_mode": {
    "name": "ipython",
    "version": 2
   },
   "file_extension": ".py",
   "mimetype": "text/x-python",
   "name": "python",
   "nbconvert_exporter": "python",
   "pygments_lexer": "ipython2",
   "version": "2.7.6"
  }
 },
 "nbformat": 4,
 "nbformat_minor": 0
}